{
 "cells": [
  {
   "cell_type": "markdown",
   "metadata": {},
   "source": [
    "### Assignment 3"
   ]
  },
  {
   "cell_type": "code",
   "execution_count": 102,
   "metadata": {},
   "outputs": [],
   "source": [
    "import pandas as pd"
   ]
  },
  {
   "cell_type": "code",
   "execution_count": 103,
   "metadata": {},
   "outputs": [
    {
     "data": {
      "text/html": [
       "<div>\n",
       "<style scoped>\n",
       "    .dataframe tbody tr th:only-of-type {\n",
       "        vertical-align: middle;\n",
       "    }\n",
       "\n",
       "    .dataframe tbody tr th {\n",
       "        vertical-align: top;\n",
       "    }\n",
       "\n",
       "    .dataframe thead th {\n",
       "        text-align: right;\n",
       "    }\n",
       "</style>\n",
       "<table border=\"1\" class=\"dataframe\">\n",
       "  <thead>\n",
       "    <tr style=\"text-align: right;\">\n",
       "      <th></th>\n",
       "      <th>age</th>\n",
       "      <th>job</th>\n",
       "      <th>marital</th>\n",
       "      <th>education</th>\n",
       "      <th>default</th>\n",
       "      <th>balance</th>\n",
       "      <th>housing</th>\n",
       "      <th>loan</th>\n",
       "      <th>contact</th>\n",
       "      <th>day</th>\n",
       "      <th>month</th>\n",
       "      <th>duration</th>\n",
       "      <th>campaign</th>\n",
       "      <th>pdays</th>\n",
       "      <th>previous</th>\n",
       "      <th>poutcome</th>\n",
       "      <th>y</th>\n",
       "    </tr>\n",
       "  </thead>\n",
       "  <tbody>\n",
       "    <tr>\n",
       "      <th>0</th>\n",
       "      <td>30</td>\n",
       "      <td>0</td>\n",
       "      <td>1</td>\n",
       "      <td>0</td>\n",
       "      <td>0</td>\n",
       "      <td>1787</td>\n",
       "      <td>0</td>\n",
       "      <td>0</td>\n",
       "      <td>1</td>\n",
       "      <td>19</td>\n",
       "      <td>10</td>\n",
       "      <td>79</td>\n",
       "      <td>1</td>\n",
       "      <td>-1</td>\n",
       "      <td>0</td>\n",
       "      <td>2</td>\n",
       "      <td>0</td>\n",
       "    </tr>\n",
       "    <tr>\n",
       "      <th>1</th>\n",
       "      <td>33</td>\n",
       "      <td>1</td>\n",
       "      <td>1</td>\n",
       "      <td>1</td>\n",
       "      <td>0</td>\n",
       "      <td>4789</td>\n",
       "      <td>1</td>\n",
       "      <td>1</td>\n",
       "      <td>1</td>\n",
       "      <td>11</td>\n",
       "      <td>5</td>\n",
       "      <td>220</td>\n",
       "      <td>1</td>\n",
       "      <td>339</td>\n",
       "      <td>4</td>\n",
       "      <td>0</td>\n",
       "      <td>0</td>\n",
       "    </tr>\n",
       "    <tr>\n",
       "      <th>2</th>\n",
       "      <td>35</td>\n",
       "      <td>2</td>\n",
       "      <td>0</td>\n",
       "      <td>2</td>\n",
       "      <td>0</td>\n",
       "      <td>1350</td>\n",
       "      <td>1</td>\n",
       "      <td>0</td>\n",
       "      <td>1</td>\n",
       "      <td>16</td>\n",
       "      <td>4</td>\n",
       "      <td>185</td>\n",
       "      <td>1</td>\n",
       "      <td>330</td>\n",
       "      <td>1</td>\n",
       "      <td>0</td>\n",
       "      <td>0</td>\n",
       "    </tr>\n",
       "    <tr>\n",
       "      <th>3</th>\n",
       "      <td>30</td>\n",
       "      <td>2</td>\n",
       "      <td>1</td>\n",
       "      <td>2</td>\n",
       "      <td>0</td>\n",
       "      <td>1476</td>\n",
       "      <td>1</td>\n",
       "      <td>1</td>\n",
       "      <td>0</td>\n",
       "      <td>3</td>\n",
       "      <td>6</td>\n",
       "      <td>199</td>\n",
       "      <td>4</td>\n",
       "      <td>-1</td>\n",
       "      <td>0</td>\n",
       "      <td>2</td>\n",
       "      <td>0</td>\n",
       "    </tr>\n",
       "    <tr>\n",
       "      <th>4</th>\n",
       "      <td>59</td>\n",
       "      <td>3</td>\n",
       "      <td>1</td>\n",
       "      <td>1</td>\n",
       "      <td>0</td>\n",
       "      <td>0</td>\n",
       "      <td>1</td>\n",
       "      <td>0</td>\n",
       "      <td>0</td>\n",
       "      <td>5</td>\n",
       "      <td>5</td>\n",
       "      <td>226</td>\n",
       "      <td>1</td>\n",
       "      <td>-1</td>\n",
       "      <td>0</td>\n",
       "      <td>2</td>\n",
       "      <td>0</td>\n",
       "    </tr>\n",
       "  </tbody>\n",
       "</table>\n",
       "</div>"
      ],
      "text/plain": [
       "   age  job  marital  education  default  balance  housing  loan  contact  \\\n",
       "0   30    0        1          0        0     1787        0     0        1   \n",
       "1   33    1        1          1        0     4789        1     1        1   \n",
       "2   35    2        0          2        0     1350        1     0        1   \n",
       "3   30    2        1          2        0     1476        1     1        0   \n",
       "4   59    3        1          1        0        0        1     0        0   \n",
       "\n",
       "   day  month  duration  campaign  pdays  previous  poutcome  y  \n",
       "0   19     10        79         1     -1         0         2  0  \n",
       "1   11      5       220         1    339         4         0  0  \n",
       "2   16      4       185         1    330         1         0  0  \n",
       "3    3      6       199         4     -1         0         2  0  \n",
       "4    5      5       226         1     -1         0         2  0  "
      ]
     },
     "execution_count": 103,
     "metadata": {},
     "output_type": "execute_result"
    }
   ],
   "source": [
    "df = pd.read_csv(\"bank.csv\",sep=';')\n",
    "df['job'] = df['job'].map({'unemployed':0,\n",
    " 'services':1,\n",
    " 'management':2,\n",
    " 'blue-collar':3,\n",
    " 'self-employed':4,\n",
    " 'technician':5,\n",
    " 'entrepreneur':6,\n",
    " 'admin.':7,\n",
    " 'student':8,\n",
    " 'housemaid':9,\n",
    " 'retired':10,\n",
    " 'unknown':11})\n",
    "df['marital'] = df['marital'].map({'married':1, 'single':0, 'divorced':2})\n",
    "df['education'] = df['education'].map({'primary':0, 'secondary':1, 'tertiary':2, 'unknown':3})\n",
    "df['default'] = df['default'].map({'no':0, 'yes':1})\n",
    "df['housing'] = df['housing'].map({'no':0, 'yes':1})\n",
    "df['loan'] = df['loan'].map({'no':0, 'yes':1})\n",
    "df['contact'] = df['contact'].map({'cellular':1, 'unknown':0, 'telephone':2})\n",
    "df['month'] = df['month'].map({'oct':10,\n",
    " 'may':5,\n",
    " 'apr':4,\n",
    " 'jun':6,\n",
    " 'feb':2,\n",
    " 'aug':8,\n",
    " 'jan':1,\n",
    " 'jul':7,\n",
    " 'nov':11,\n",
    " 'sep':9,\n",
    " 'mar':3,\n",
    " 'dec':12})\n",
    "df['y'] = df['y'].map({'no':0, 'yes':1})\n",
    "df['poutcome'] = df['poutcome'].map({'unknown':2, 'failure':0, 'other':3, 'success':1})\n",
    "df.head()"
   ]
  },
  {
   "cell_type": "code",
   "execution_count": 104,
   "metadata": {},
   "outputs": [
    {
     "name": "stdout",
     "output_type": "stream",
     "text": [
      "<class 'pandas.core.frame.DataFrame'>\n",
      "RangeIndex: 4521 entries, 0 to 4520\n",
      "Data columns (total 17 columns):\n",
      " #   Column     Non-Null Count  Dtype\n",
      "---  ------     --------------  -----\n",
      " 0   age        4521 non-null   int64\n",
      " 1   job        4521 non-null   int64\n",
      " 2   marital    4521 non-null   int64\n",
      " 3   education  4521 non-null   int64\n",
      " 4   default    4521 non-null   int64\n",
      " 5   balance    4521 non-null   int64\n",
      " 6   housing    4521 non-null   int64\n",
      " 7   loan       4521 non-null   int64\n",
      " 8   contact    4521 non-null   int64\n",
      " 9   day        4521 non-null   int64\n",
      " 10  month      4521 non-null   int64\n",
      " 11  duration   4521 non-null   int64\n",
      " 12  campaign   4521 non-null   int64\n",
      " 13  pdays      4521 non-null   int64\n",
      " 14  previous   4521 non-null   int64\n",
      " 15  poutcome   4521 non-null   int64\n",
      " 16  y          4521 non-null   int64\n",
      "dtypes: int64(17)\n",
      "memory usage: 600.6 KB\n"
     ]
    }
   ],
   "source": [
    "df.info()"
   ]
  },
  {
   "cell_type": "code",
   "execution_count": 105,
   "metadata": {},
   "outputs": [],
   "source": [
    "X = df.drop('y', axis=1)\n",
    "y = df['y']"
   ]
  },
  {
   "cell_type": "markdown",
   "metadata": {},
   "source": [
    "#### Split Data"
   ]
  },
  {
   "cell_type": "code",
   "execution_count": 107,
   "metadata": {},
   "outputs": [],
   "source": [
    "from sklearn.model_selection import train_test_split\n",
    "X_train, X_test, y_train, y_test = train_test_split(X, y, test_size=0.2, random_state=33)"
   ]
  },
  {
   "cell_type": "markdown",
   "metadata": {},
   "source": [
    "#### Data Scaling"
   ]
  },
  {
   "cell_type": "code",
   "execution_count": 108,
   "metadata": {},
   "outputs": [],
   "source": [
    "from sklearn.preprocessing import MinMaxScaler\n",
    "\n",
    "scaler = MinMaxScaler()\n",
    "scaler.fit(X_train)\n",
    "\n",
    "X_train_scaled = scaler.transform(X_train)\n",
    "X_test_scaled = scaler.transform(X_test)"
   ]
  },
  {
   "cell_type": "markdown",
   "metadata": {},
   "source": [
    "#### Create Model and Train it using LogisticRegression"
   ]
  },
  {
   "cell_type": "code",
   "execution_count": 109,
   "metadata": {},
   "outputs": [
    {
     "name": "stdout",
     "output_type": "stream",
     "text": [
      "akurasi train : 0.8938053097345132\n",
      "akurasi test : 0.8629834254143647\n",
      "confusion matix : [[771  13]\n",
      " [111  10]]\n"
     ]
    }
   ],
   "source": [
    "import matplotlib.pyplot as plt\n",
    "import numpy as np\n",
    "\n",
    "from sklearn.linear_model import LogisticRegression\n",
    "from sklearn.metrics import classification_report, confusion_matrix, f1_score\n",
    "\n",
    "# train model logreg\n",
    "modelLogReg = LogisticRegression(solver='liblinear', C=0.05, multi_class='ovr',random_state=0)\n",
    "modelLogReg.fit(X_train,y_train)\n",
    "\n",
    "# testing\n",
    "y_pred = modelLogReg.predict(X_test)\n",
    "\n",
    "\n",
    "# get accuracy train using .score()\n",
    "print(f\"akurasi train : {modelLogReg.score(X_train,y_train)}\")\n",
    "\n",
    "# get accuracy test using .score()\n",
    "print(f\"akurasi test : {modelLogReg.score(X_test,y_test)}\")\n",
    "\n",
    "# get confusion matrix\n",
    "cmLogReg = confusion_matrix(y_test, y_pred)\n",
    "print(f\"confusion matix : {cmLogReg}\")\n",
    "\n"
   ]
  },
  {
   "cell_type": "markdown",
   "metadata": {},
   "source": [
    "#### Visualisasi CM LogReg"
   ]
  },
  {
   "cell_type": "code",
   "execution_count": 110,
   "metadata": {},
   "outputs": [
    {
     "data": {
      "image/png": "[encoded data removed]",
      "text/plain": [
       "<Figure size 576x576 with 1 Axes>"
      ]
     },
     "metadata": {
      "needs_background": "light"
     },
     "output_type": "display_data"
    }
   ],
   "source": [
    "fig,ax = plt.subplots(figsize=(8,8))\n",
    "ax.imshow(cmLogReg)\n",
    "ax.grid(False)\n",
    "ax.set_xlabel('Predicted Outputs', color='black')\n",
    "ax.set_ylabel('Actual Outputs', color='black')\n",
    "for i in range(2):\n",
    "    for j in range(2):\n",
    "        ax.text(j,i,cmLogReg[i,j],ha='center',va='center',color='white')\n",
    "plt.show()"
   ]
  },
  {
   "cell_type": "markdown",
   "metadata": {},
   "source": [
    "#### Classification Report using Log - Reg"
   ]
  },
  {
   "cell_type": "code",
   "execution_count": 93,
   "metadata": {},
   "outputs": [
    {
     "name": "stdout",
     "output_type": "stream",
     "text": [
      "              precision    recall  f1-score   support\n",
      "\n",
      "           0       0.88      0.96      0.92       784\n",
      "           1       0.33      0.14      0.20       121\n",
      "\n",
      "    accuracy                           0.85       905\n",
      "   macro avg       0.61      0.55      0.56       905\n",
      "weighted avg       0.81      0.85      0.82       905\n",
      "\n",
      "fi score  : 0.19767441860465115\n"
     ]
    }
   ],
   "source": [
    "# evaluasi\n",
    "print(classification_report(y_test, y_pred))\n",
    "\n",
    "print(f\"fi score  : {f1_score(y_test, y_pred, labels=[1], average='micro')}\")"
   ]
  },
  {
   "cell_type": "markdown",
   "metadata": {},
   "source": [
    "#### Create Model and Train it using KNeighborsClassifier"
   ]
  },
  {
   "cell_type": "code",
   "execution_count": 111,
   "metadata": {},
   "outputs": [
    {
     "name": "stdout",
     "output_type": "stream",
     "text": [
      "akurasi train : 0.9112278761061947\n",
      "akurasi test : 0.8475138121546961\n",
      "akurasi : 0.8475138121546961\n",
      "confusion matix : [[750  34]\n",
      " [104  17]]\n"
     ]
    }
   ],
   "source": [
    "from sklearn.neighbors import KNeighborsClassifier\n",
    "from sklearn import metrics\n",
    "# train model KNN\n",
    "modelKNN = KNeighborsClassifier()\n",
    "modelKNN.fit(X_train, y_train)\n",
    "\n",
    "# testing\n",
    "y_predKNN = modelKNN.predict(X_test)\n",
    "\n",
    "# get accuracy train using .score()\n",
    "print(f\"akurasi train : {modelKNN.score(X_train,y_train)}\")\n",
    "\n",
    "# get accuracy test using .score()\n",
    "print(f\"akurasi test : {modelKNN.score(X_test,y_test)}\")\n",
    "\n",
    "# get accuracy using metrics\n",
    "print(f\"akurasi : {metrics.accuracy_score(y_test, y_predKNN)}\")\n",
    "\n",
    "# get confusion matrix\n",
    "cmKNN = confusion_matrix(y_test, y_predKNN)\n",
    "print(f\"confusion matix : {cmKNN}\")\n"
   ]
  },
  {
   "cell_type": "markdown",
   "metadata": {},
   "source": [
    "#### Classification Report using KNN"
   ]
  },
  {
   "cell_type": "code",
   "execution_count": 112,
   "metadata": {},
   "outputs": [
    {
     "name": "stdout",
     "output_type": "stream",
     "text": [
      "              precision    recall  f1-score   support\n",
      "\n",
      "           0       0.88      0.96      0.92       784\n",
      "           1       0.33      0.14      0.20       121\n",
      "\n",
      "    accuracy                           0.85       905\n",
      "   macro avg       0.61      0.55      0.56       905\n",
      "weighted avg       0.81      0.85      0.82       905\n",
      "\n",
      "fi score : 0.19767441860465115\n"
     ]
    }
   ],
   "source": [
    "# evaluasi\n",
    "print(classification_report(y_test, y_predKNN))\n",
    "\n",
    "# f1 score\n",
    "print(f\"fi score : {f1_score(y_test, y_predKNN, labels=[1], average='micro')}\")"
   ]
  },
  {
   "cell_type": "markdown",
   "metadata": {},
   "source": [
    "#### Create Model and Train it using Support Vectore Machine"
   ]
  },
  {
   "cell_type": "code",
   "execution_count": 113,
   "metadata": {},
   "outputs": [
    {
     "name": "stdout",
     "output_type": "stream",
     "text": [
      "akurasi train : 0.271570796460177\n",
      "akurasi test : 0.30165745856353593\n",
      "akurasi : 0.30165745856353593\n",
      "confusion matix : [[156 628]\n",
      " [  4 117]]\n"
     ]
    },
    {
     "name": "stderr",
     "output_type": "stream",
     "text": [
      "C:\\Users\\20210257\\Anaconda3\\lib\\site-packages\\sklearn\\svm\\_base.py:985: ConvergenceWarning: Liblinear failed to converge, increase the number of iterations.\n",
      "  warnings.warn(\"Liblinear failed to converge, increase \"\n"
     ]
    }
   ],
   "source": [
    "from sklearn.svm import LinearSVC\n",
    "# train model svm\n",
    "modelSVM = LinearSVC()\n",
    "modelSVM.fit(X_train, y_train)\n",
    "\n",
    "# testing\n",
    "y_predSVM = modelSVM.predict(X_test)\n",
    "\n",
    "# get accuracy train using .score()\n",
    "print(f\"akurasi train : {modelSVM.score(X_train,y_train)}\")\n",
    "\n",
    "# get accuracy test using .score()\n",
    "print(f\"akurasi test : {modelSVM.score(X_test,y_test)}\")\n",
    "\n",
    "# get accuracy using metrics\n",
    "print(f\"akurasi : {metrics.accuracy_score(y_test, y_predSVM)}\")\n",
    "\n",
    "# get confusion matrix\n",
    "cmSVM = confusion_matrix(y_test, y_predSVM)\n",
    "print(f\"confusion matix : {cmSVM}\")\n"
   ]
  },
  {
   "cell_type": "markdown",
   "metadata": {},
   "source": [
    "#### Classification Report using SVM"
   ]
  },
  {
   "cell_type": "code",
   "execution_count": 114,
   "metadata": {},
   "outputs": [
    {
     "name": "stdout",
     "output_type": "stream",
     "text": [
      "              precision    recall  f1-score   support\n",
      "\n",
      "           0       0.97      0.20      0.33       784\n",
      "           1       0.16      0.97      0.27       121\n",
      "\n",
      "    accuracy                           0.30       905\n",
      "   macro avg       0.57      0.58      0.30       905\n",
      "weighted avg       0.87      0.30      0.32       905\n",
      "\n",
      "fi score : 0.2702078521939954\n"
     ]
    }
   ],
   "source": [
    "# evaluasi\n",
    "print(classification_report(y_test, y_predSVM))\n",
    "\n",
    "# f1 score\n",
    "print(f\"fi score : {f1_score(y_test, y_predSVM, labels=[1], average='micro')}\")"
   ]
  },
  {
   "cell_type": "markdown",
   "metadata": {},
   "source": [
    "#### Create Model and Train it using Decision Tree"
   ]
  },
  {
   "cell_type": "code",
   "execution_count": 119,
   "metadata": {},
   "outputs": [
    {
     "name": "stdout",
     "output_type": "stream",
     "text": [
      "akurasi train : 1.0\n",
      "akurasi test : 0.8629834254143647\n",
      "akurasi : 0.8629834254143647\n",
      "confusion matix : [[735  49]\n",
      " [ 75  46]]\n"
     ]
    }
   ],
   "source": [
    "from sklearn.tree import DecisionTreeClassifier\n",
    "# train model Decision Tree\n",
    "modelDTC = DecisionTreeClassifier()\n",
    "modelDTC.fit(X_train, y_train)\n",
    "\n",
    "# testing\n",
    "y_predDTC = modelDTC.predict(X_test)\n",
    "\n",
    "# get accuracy train using .score()\n",
    "print(f\"akurasi train : {modelDTC.score(X_train,y_train)}\")\n",
    "\n",
    "# get accuracy test using .score()\n",
    "print(f\"akurasi test : {modelDTC.score(X_test,y_test)}\")\n",
    "\n",
    "# get accuracy using metrics\n",
    "print(f\"akurasi : {metrics.accuracy_score(y_test, y_predDTC)}\")\n",
    "\n",
    "# get confusion matrix\n",
    "cmDTC = confusion_matrix(y_test, y_predDTC)\n",
    "print(f\"confusion matix : {cmDTC}\")\n"
   ]
  },
  {
   "cell_type": "markdown",
   "metadata": {},
   "source": [
    "#### Classification Report using Decision Tree"
   ]
  },
  {
   "cell_type": "code",
   "execution_count": 120,
   "metadata": {},
   "outputs": [
    {
     "name": "stdout",
     "output_type": "stream",
     "text": [
      "              precision    recall  f1-score   support\n",
      "\n",
      "           0       0.91      0.94      0.92       784\n",
      "           1       0.48      0.38      0.43       121\n",
      "\n",
      "    accuracy                           0.86       905\n",
      "   macro avg       0.70      0.66      0.67       905\n",
      "weighted avg       0.85      0.86      0.86       905\n",
      "\n",
      "fi score : 0.42592592592592593\n"
     ]
    }
   ],
   "source": [
    "# evaluasi\n",
    "print(classification_report(y_test, y_predDTC))\n",
    "\n",
    "# f1 score\n",
    "print(f\"fi score : {f1_score(y_test, y_predDTC, labels=[1], average='micro')}\")"
   ]
  },
  {
   "cell_type": "markdown",
   "metadata": {},
   "source": [
    "#### Create Model and Train it using Random Forest"
   ]
  },
  {
   "cell_type": "code",
   "execution_count": 121,
   "metadata": {},
   "outputs": [
    {
     "name": "stdout",
     "output_type": "stream",
     "text": [
      "akurasi train : 1.0\n",
      "akurasi test : 0.876243093922652\n",
      "akurasi : 0.876243093922652\n",
      "confusion matix : [[763  21]\n",
      " [ 91  30]]\n"
     ]
    }
   ],
   "source": [
    "from sklearn.ensemble import RandomForestClassifier\n",
    "# train model Decision Tree\n",
    "modelRandomForest = RandomForestClassifier()\n",
    "modelRandomForest.fit(X_train, y_train)\n",
    "\n",
    "# testing\n",
    "y_predRandomForest = modelRandomForest.predict(X_test)\n",
    "\n",
    "# get accuracy train using .score()\n",
    "print(f\"akurasi train : {modelRandomForest.score(X_train,y_train)}\")\n",
    "\n",
    "# get accuracy test using .score()\n",
    "print(f\"akurasi test : {modelRandomForest.score(X_test,y_test)}\")\n",
    "\n",
    "# get accuracy using metrics\n",
    "print(f\"akurasi : {metrics.accuracy_score(y_test, y_predRandomForest)}\")\n",
    "\n",
    "# get confusion matrix\n",
    "cmRandomForest = confusion_matrix(y_test, y_predRandomForest)\n",
    "print(f\"confusion matix : {cmRandomForest}\")\n"
   ]
  },
  {
   "cell_type": "markdown",
   "metadata": {},
   "source": [
    "#### Classification Report using Random Forest"
   ]
  },
  {
   "cell_type": "code",
   "execution_count": 122,
   "metadata": {},
   "outputs": [
    {
     "name": "stdout",
     "output_type": "stream",
     "text": [
      "              precision    recall  f1-score   support\n",
      "\n",
      "           0       0.89      0.97      0.93       784\n",
      "           1       0.59      0.25      0.35       121\n",
      "\n",
      "    accuracy                           0.88       905\n",
      "   macro avg       0.74      0.61      0.64       905\n",
      "weighted avg       0.85      0.88      0.85       905\n",
      "\n",
      "fi score : 0.3488372093023256\n"
     ]
    }
   ],
   "source": [
    "# evaluasi\n",
    "print(classification_report(y_test, y_predRandomForest))\n",
    "\n",
    "# f1 score\n",
    "print(f\"fi score : {f1_score(y_test, y_predRandomForest, labels=[1], average='micro')}\")"
   ]
  },
  {
   "cell_type": "markdown",
   "metadata": {},
   "source": [
    "#### Create Model and Train it using Naive Bayes"
   ]
  },
  {
   "cell_type": "code",
   "execution_count": 123,
   "metadata": {},
   "outputs": [
    {
     "name": "stdout",
     "output_type": "stream",
     "text": [
      "akurasi train : 0.8476216814159292\n",
      "akurasi test : 0.8331491712707182\n",
      "akurasi : 0.8331491712707182\n",
      "confusion matix : [[707  77]\n",
      " [ 74  47]]\n"
     ]
    }
   ],
   "source": [
    "from sklearn.naive_bayes import GaussianNB\n",
    "# train model Decision Tree\n",
    "modelNB = GaussianNB()\n",
    "modelNB.fit(X_train, y_train)\n",
    "\n",
    "# testing\n",
    "y_predNB = modelNB.predict(X_test)\n",
    "\n",
    "# get accuracy train using .score()\n",
    "print(f\"akurasi train : {modelNB.score(X_train,y_train)}\")\n",
    "\n",
    "# get accuracy test using .score()\n",
    "print(f\"akurasi test : {modelNB.score(X_test,y_test)}\")\n",
    "\n",
    "# get accuracy using metrics\n",
    "print(f\"akurasi : {metrics.accuracy_score(y_test, y_predNB)}\")\n",
    "\n",
    "# get confusion matrix\n",
    "cmNB = confusion_matrix(y_test, y_predNB)\n",
    "print(f\"confusion matix : {cmNB}\")\n"
   ]
  },
  {
   "cell_type": "markdown",
   "metadata": {},
   "source": [
    "#### Classification Report using Naive Bayes"
   ]
  },
  {
   "cell_type": "code",
   "execution_count": 124,
   "metadata": {},
   "outputs": [
    {
     "name": "stdout",
     "output_type": "stream",
     "text": [
      "              precision    recall  f1-score   support\n",
      "\n",
      "           0       0.91      0.90      0.90       784\n",
      "           1       0.38      0.39      0.38       121\n",
      "\n",
      "    accuracy                           0.83       905\n",
      "   macro avg       0.64      0.65      0.64       905\n",
      "weighted avg       0.83      0.83      0.83       905\n",
      "\n",
      "fi score : 0.38367346938775515\n"
     ]
    }
   ],
   "source": [
    "# evaluasi\n",
    "print(classification_report(y_test, y_predNB))\n",
    "\n",
    "# f1 score\n",
    "print(f\"fi score : {f1_score(y_test, y_predNB, labels=[1], average='micro')}\")"
   ]
  },
  {
   "cell_type": "code",
   "execution_count": null,
   "metadata": {},
   "outputs": [],
   "source": []
  }
 ],
 "metadata": {
  "interpreter": {
   "hash": "9f3870633da4113630a30a2f1847ca5963696ff6d59b143b14bad598e226aee7"
  },
  "kernelspec": {
   "display_name": "Python 3.9.7 ('base')",
   "language": "python",
   "name": "python3"
  },
  "language_info": {
   "codemirror_mode": {
    "name": "ipython",
    "version": 3
   },
   "file_extension": ".py",
   "mimetype": "text/x-python",
   "name": "python",
   "nbconvert_exporter": "python",
   "pygments_lexer": "ipython3",
   "version": "3.9.7"
  },
  "orig_nbformat": 4
 },
 "nbformat": 4,
 "nbformat_minor": 2
}
